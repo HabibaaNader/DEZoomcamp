{
 "cells": [
  {
   "cell_type": "code",
   "execution_count": 2,
   "id": "ba6a4ddf",
   "metadata": {},
   "outputs": [],
   "source": [
    "import pandas as pd\n",
    "from sqlalchemy import create_engine"
   ]
  },
  {
   "cell_type": "code",
   "execution_count": 1,
   "id": "376f86d9",
   "metadata": {},
   "outputs": [
    {
     "name": "stdout",
     "output_type": "stream",
     "text": [
      "Untitled.ipynb\t     green_tripdata_2019-10.csv.gz\r\n",
      "docker-compose.yaml  taxi_zone_lookup.csv\r\n"
     ]
    }
   ],
   "source": [
    "!ls"
   ]
  },
  {
   "cell_type": "code",
   "execution_count": 3,
   "id": "2e76256a",
   "metadata": {},
   "outputs": [],
   "source": [
    "pg_user=\"postgres\"\n",
    "pg_pass=\"postgres\"\n",
    "pg_host=\"localhost\"\n",
    "pg_port=5433\n",
    "pg_db=\"ny_taxi\""
   ]
  },
  {
   "cell_type": "code",
   "execution_count": 4,
   "id": "b6e51f67",
   "metadata": {},
   "outputs": [],
   "source": [
    "engine = create_engine(f\"postgresql://{pg_user}:{pg_pass}@{pg_host}:{pg_port}/{pg_db}\")"
   ]
  },
  {
   "cell_type": "code",
   "execution_count": 5,
   "id": "d1546dad",
   "metadata": {},
   "outputs": [
    {
     "data": {
      "text/plain": [
       "<sqlalchemy.engine.base.Connection at 0x7fcd733090d0>"
      ]
     },
     "execution_count": 5,
     "metadata": {},
     "output_type": "execute_result"
    }
   ],
   "source": [
    "con = engine.connect()\n",
    "\n",
    "#test connection\n",
    "con"
   ]
  },
  {
   "cell_type": "code",
   "execution_count": 6,
   "id": "54505396",
   "metadata": {},
   "outputs": [],
   "source": [
    "df_iter = pd.read_csv(\"green_tripdata_2019-10.csv.gz\", iterator=True, chunksize=100000)\n",
    "df = next(df_iter)"
   ]
  },
  {
   "cell_type": "code",
   "execution_count": 7,
   "id": "25a53290",
   "metadata": {},
   "outputs": [
    {
     "name": "stdout",
     "output_type": "stream",
     "text": [
      "<class 'pandas.core.frame.DataFrame'>\n",
      "RangeIndex: 100000 entries, 0 to 99999\n",
      "Data columns (total 20 columns):\n",
      " #   Column                 Non-Null Count   Dtype  \n",
      "---  ------                 --------------   -----  \n",
      " 0   VendorID               100000 non-null  int64  \n",
      " 1   lpep_pickup_datetime   100000 non-null  object \n",
      " 2   lpep_dropoff_datetime  100000 non-null  object \n",
      " 3   store_and_fwd_flag     100000 non-null  object \n",
      " 4   RatecodeID             100000 non-null  int64  \n",
      " 5   PULocationID           100000 non-null  int64  \n",
      " 6   DOLocationID           100000 non-null  int64  \n",
      " 7   passenger_count        100000 non-null  int64  \n",
      " 8   trip_distance          100000 non-null  float64\n",
      " 9   fare_amount            100000 non-null  float64\n",
      " 10  extra                  100000 non-null  float64\n",
      " 11  mta_tax                100000 non-null  float64\n",
      " 12  tip_amount             100000 non-null  float64\n",
      " 13  tolls_amount           100000 non-null  float64\n",
      " 14  ehail_fee              0 non-null       float64\n",
      " 15  improvement_surcharge  100000 non-null  float64\n",
      " 16  total_amount           100000 non-null  float64\n",
      " 17  payment_type           100000 non-null  int64  \n",
      " 18  trip_type              99999 non-null   float64\n",
      " 19  congestion_surcharge   100000 non-null  float64\n",
      "dtypes: float64(11), int64(6), object(3)\n",
      "memory usage: 15.3+ MB\n"
     ]
    }
   ],
   "source": [
    "df.info()"
   ]
  },
  {
   "cell_type": "code",
   "execution_count": 8,
   "id": "5dc0cd32",
   "metadata": {},
   "outputs": [],
   "source": [
    "df['lpep_pickup_datetime'] = pd.to_datetime(df['lpep_pickup_datetime'])\n",
    "df['lpep_dropoff_datetime'] = pd.to_datetime(df['lpep_dropoff_datetime'])"
   ]
  },
  {
   "cell_type": "code",
   "execution_count": 9,
   "id": "2b0c4412",
   "metadata": {},
   "outputs": [
    {
     "data": {
      "text/plain": [
       "0"
      ]
     },
     "execution_count": 9,
     "metadata": {},
     "output_type": "execute_result"
    }
   ],
   "source": [
    "df.head(0).to_sql(con = con, name = \"green_tripdata_2019-10\", if_exists=\"replace\")"
   ]
  },
  {
   "cell_type": "code",
   "execution_count": 10,
   "id": "2c9bd622",
   "metadata": {},
   "outputs": [
    {
     "data": {
      "text/plain": [
       "1000"
      ]
     },
     "execution_count": 10,
     "metadata": {},
     "output_type": "execute_result"
    }
   ],
   "source": [
    "df.to_sql(con = con, name = \"green_tripdata_2019-10\", if_exists=\"append\")"
   ]
  },
  {
   "cell_type": "code",
   "execution_count": null,
   "id": "48f710e5",
   "metadata": {},
   "outputs": [],
   "source": [
    "try:\n",
    "    while True:\n",
    "        # Fetch the next chunk of data\n",
    "        df = next(df_iter)\n",
    "\n",
    "        # Convert datetime columns\n",
    "        df['lpep_pickup_datetime'] = pd.to_datetime(df['lpep_pickup_datetime'])\n",
    "        df['lpep_dropoff_datetime'] = pd.to_datetime(df['lpep_dropoff_datetime'])\n",
    "\n",
    "        # Append the chunk to the SQL table\n",
    "        df.to_sql(con=con, name=\"green_tripdata_2019_10\", if_exists=\"append\", index=False)\n",
    "\n",
    "except StopIteration:\n",
    "    print(\"Data loading complete.\")\n",
    "except Exception as e:\n",
    "    print(f\"An error occurred: {e}\")\n",
    "\n",
    "# Close the database connection\n",
    "finally:\n",
    "    con.close()"
   ]
  },
  {
   "cell_type": "code",
   "execution_count": null,
   "id": "a3ce4a02",
   "metadata": {},
   "outputs": [],
   "source": []
  },
  {
   "cell_type": "code",
   "execution_count": null,
   "id": "3de955d5",
   "metadata": {},
   "outputs": [],
   "source": []
  }
 ],
 "metadata": {
  "kernelspec": {
   "display_name": "Python 3 (ipykernel)",
   "language": "python",
   "name": "python3"
  },
  "language_info": {
   "codemirror_mode": {
    "name": "ipython",
    "version": 3
   },
   "file_extension": ".py",
   "mimetype": "text/x-python",
   "name": "python",
   "nbconvert_exporter": "python",
   "pygments_lexer": "ipython3",
   "version": "3.11.3"
  }
 },
 "nbformat": 4,
 "nbformat_minor": 5
}
